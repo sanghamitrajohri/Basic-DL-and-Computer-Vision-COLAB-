{
  "nbformat": 4,
  "nbformat_minor": 0,
  "metadata": {
    "colab": {
      "name": "Arrow_direction_1.ipynb",
      "provenance": [],
      "mount_file_id": "1gwwv26d5Yc7G-Ssh15hGRWWuErYDtCEo",
      "authorship_tag": "ABX9TyPROBaBKoIckkb6na0Bb2Bt",
      "include_colab_link": true
    },
    "kernelspec": {
      "display_name": "Python 3",
      "name": "python3"
    }
  },
  "cells": [
    {
      "cell_type": "markdown",
      "metadata": {
        "id": "view-in-github",
        "colab_type": "text"
      },
      "source": [
        "<a href=\"https://colab.research.google.com/github/sanghamitrajohri/Basic-DL-and-Computer-Vision-COLAB-/blob/main/Arrow_direction_1.ipynb\" target=\"_parent\"><img src=\"https://colab.research.google.com/assets/colab-badge.svg\" alt=\"Open In Colab\"/></a>"
      ]
    },
    {
      "cell_type": "code",
      "metadata": {
        "id": "y_BMPb__Ywui"
      },
      "source": [
        "from tensorflow.keras.preprocessing.image import ImageDataGenerator\n",
        "from tensorflow.keras.applications import VGG16\n",
        "from tensorflow.keras.layers import AveragePooling2D\n",
        "from tensorflow.keras.layers import Dropout\n",
        "from tensorflow.keras.layers import Flatten\n",
        "from tensorflow.keras.layers import Dense\n",
        "from tensorflow.keras.layers import Input\n",
        "from tensorflow.keras.models import Model\n",
        "from tensorflow.keras.optimizers import Adam\n",
        "from tensorflow.keras.utils import to_categorical\n",
        "from sklearn.preprocessing import LabelBinarizer\n",
        "from sklearn.model_selection import train_test_split\n",
        "from sklearn.metrics import classification_report\n",
        "from sklearn.metrics import confusion_matrix\n",
        "from imutils import paths\n",
        "import matplotlib.pyplot as plt\n",
        "import numpy as np\n",
        "import argparse\n",
        "import cv2\n",
        "import os"
      ],
      "execution_count": null,
      "outputs": []
    },
    {
      "cell_type": "code",
      "metadata": {
        "id": "MXbKDlLRZYim"
      },
      "source": [
        "plt.rcParams[\"figure.figsize\"] = (20,10)\n",
        "INIT_LR = 1e-3\n",
        "EPOCHS = 20\n",
        "BS = 8"
      ],
      "execution_count": null,
      "outputs": []
    },
    {
      "cell_type": "code",
      "metadata": {
        "id": "bjOE7MQuZ1xU"
      },
      "source": [
        "imagePaths = list(paths.list_images(\"/content/drive/MyDrive/ARROWS\"))\n",
        "data = []\n",
        "labels = []"
      ],
      "execution_count": null,
      "outputs": []
    },
    {
      "cell_type": "code",
      "metadata": {
        "colab": {
          "base_uri": "https://localhost:8080/"
        },
        "id": "BfiSZaYTZ_a4",
        "outputId": "3ad23db6-389f-43bb-e946-a801d563e34a"
      },
      "source": [
        "batch_size = 32\n",
        "\n",
        "from tensorflow.keras.preprocessing.image import ImageDataGenerator\n",
        "\n",
        "# All images will be rescaled by 1./255\n",
        "train_datagen = ImageDataGenerator(rescale=1/255)\n",
        "\n",
        "# Flow training images in batches of 128 using train_datagen generator\n",
        "train_generator = train_datagen.flow_from_directory(\n",
        "        '/content/drive/My Drive/ARROWS',  # This is the source directory for training images\n",
        "        target_size=(200, 200),  # All images will be resized to 200 x 200\n",
        "        batch_size=batch_size,\n",
        "        # Specify the classes explicitly\n",
        "        classes = ['DOWN','LEFT','RIGHT','UP'],\n",
        "        # Since we use categorical_crossentropy loss, we need categorical labels\n",
        "        class_mode='categorical')\n",
        "\n",
        "validation_dataset = train_datagen.flow_from_directory('/content/drive/My Drive/ARROWS',\n",
        "                                               target_size = (200,200),\n",
        "                                               batch_size = 3,\n",
        "                                               class_mode = 'categorical')"
      ],
      "execution_count": 5,
      "outputs": [
        {
          "output_type": "stream",
          "text": [
            "Found 379 images belonging to 4 classes.\n",
            "Found 379 images belonging to 4 classes.\n"
          ],
          "name": "stdout"
        }
      ]
    },
    {
      "cell_type": "code",
      "metadata": {
        "id": "f4TTkjjtaDda",
        "colab": {
          "base_uri": "https://localhost:8080/"
        },
        "outputId": "2d5c317c-d64f-4ec1-e42e-1fd8d7d38b5e"
      },
      "source": [
        "train_generator.class_indices"
      ],
      "execution_count": 6,
      "outputs": [
        {
          "output_type": "execute_result",
          "data": {
            "text/plain": [
              "{'DOWN': 0, 'LEFT': 1, 'RIGHT': 2, 'UP': 3}"
            ]
          },
          "metadata": {
            "tags": []
          },
          "execution_count": 6
        }
      ]
    },
    {
      "cell_type": "code",
      "metadata": {
        "colab": {
          "base_uri": "https://localhost:8080/"
        },
        "id": "X2z9VZ6ya8Ab",
        "outputId": "846090cd-afcc-4104-cabd-8739bbb43218"
      },
      "source": [
        "train_generator.classes"
      ],
      "execution_count": 7,
      "outputs": [
        {
          "output_type": "execute_result",
          "data": {
            "text/plain": [
              "array([0, 0, 0, 0, 0, 0, 0, 0, 0, 0, 0, 0, 0, 0, 0, 0, 0, 0, 0, 0, 0, 0,\n",
              "       0, 0, 0, 0, 0, 0, 0, 0, 0, 0, 0, 0, 0, 0, 0, 0, 0, 0, 0, 0, 1, 1,\n",
              "       1, 1, 1, 1, 1, 1, 1, 1, 1, 1, 1, 1, 1, 1, 1, 1, 1, 1, 1, 1, 1, 1,\n",
              "       1, 1, 1, 1, 1, 1, 1, 1, 1, 1, 1, 1, 1, 1, 1, 1, 1, 1, 1, 1, 1, 1,\n",
              "       1, 1, 1, 1, 1, 1, 1, 1, 1, 1, 1, 1, 1, 1, 1, 1, 1, 1, 1, 1, 1, 1,\n",
              "       1, 1, 1, 1, 1, 1, 1, 1, 1, 1, 1, 1, 1, 1, 1, 1, 1, 1, 1, 1, 1, 1,\n",
              "       1, 1, 1, 1, 1, 1, 1, 1, 1, 1, 1, 1, 1, 1, 1, 1, 1, 1, 1, 1, 1, 1,\n",
              "       1, 1, 1, 1, 1, 1, 1, 1, 1, 1, 1, 1, 1, 1, 1, 1, 1, 1, 1, 1, 1, 1,\n",
              "       1, 1, 1, 1, 1, 1, 1, 2, 2, 2, 2, 2, 2, 2, 2, 2, 2, 2, 2, 2, 2, 2,\n",
              "       2, 2, 2, 2, 2, 2, 2, 2, 2, 2, 2, 2, 2, 2, 2, 2, 2, 2, 2, 2, 2, 2,\n",
              "       2, 2, 2, 2, 2, 2, 2, 2, 2, 2, 2, 2, 2, 2, 3, 3, 3, 3, 3, 3, 3, 3,\n",
              "       3, 3, 3, 3, 3, 3, 3, 3, 3, 3, 3, 3, 3, 3, 3, 3, 3, 3, 3, 3, 3, 3,\n",
              "       3, 3, 3, 3, 3, 3, 3, 3, 3, 3, 3, 3, 3, 3, 3, 3, 3, 3, 3, 3, 3, 3,\n",
              "       3, 3, 3, 3, 3, 3, 3, 3, 3, 3, 3, 3, 3, 3, 3, 3, 3, 3, 3, 3, 3, 3,\n",
              "       3, 3, 3, 3, 3, 3, 3, 3, 3, 3, 3, 3, 3, 3, 3, 3, 3, 3, 3, 3, 3, 3,\n",
              "       3, 3, 3, 3, 3, 3, 3, 3, 3, 3, 3, 3, 3, 3, 3, 3, 3, 3, 3, 3, 3, 3,\n",
              "       3, 3, 3, 3, 3, 3, 3, 3, 3, 3, 3, 3, 3, 3, 3, 3, 3, 3, 3, 3, 3, 3,\n",
              "       3, 3, 3, 3, 3], dtype=int32)"
            ]
          },
          "metadata": {
            "tags": []
          },
          "execution_count": 7
        }
      ]
    },
    {
      "cell_type": "code",
      "metadata": {
        "id": "xLRR7LGOa_3Y"
      },
      "source": [
        "import tensorflow as tf\n",
        "\n",
        "model = tf.keras.models.Sequential([\n",
        "    # Note the input shape is the desired size of the image 200x 200 with 3 bytes color\n",
        "    # The first convolution\n",
        "    tf.keras.layers.Conv2D(16, (3,3), activation='relu', input_shape=(200, 200, 3)),\n",
        "    tf.keras.layers.MaxPooling2D(2, 2),\n",
        "    # The second convolution\n",
        "    tf.keras.layers.Conv2D(32, (3,3), activation='relu'),\n",
        "    tf.keras.layers.MaxPooling2D(2,2),\n",
        "    # The third convolution\n",
        "    tf.keras.layers.Conv2D(64, (3,3), activation='relu'),\n",
        "    tf.keras.layers.MaxPooling2D(2,2),\n",
        "    # The fourth convolution\n",
        "    tf.keras.layers.Conv2D(64, (3,3), activation='relu'),\n",
        "    tf.keras.layers.MaxPooling2D(2,2),\n",
        "    # The fifth convolution\n",
        "    tf.keras.layers.Conv2D(64, (3,3), activation='relu'),\n",
        "    tf.keras.layers.MaxPooling2D(2,2),\n",
        "    # Flatten the results to feed into a dense layer\n",
        "    tf.keras.layers.Flatten(),\n",
        "    # 128 neuron in the fully-connected layer\n",
        "    tf.keras.layers.Dense(128, activation='relu'),\n",
        "    # 5 output neurons for 5 classes with the softmax activation\n",
        "    tf.keras.layers.Dense(4, activation='softmax')\n",
        "])"
      ],
      "execution_count": 14,
      "outputs": []
    },
    {
      "cell_type": "code",
      "metadata": {
        "colab": {
          "base_uri": "https://localhost:8080/"
        },
        "id": "UVy5P-x_bOpl",
        "outputId": "7b826447-547d-4131-94c6-634f5f4adcaf"
      },
      "source": [
        "model.summary()"
      ],
      "execution_count": 9,
      "outputs": [
        {
          "output_type": "stream",
          "text": [
            "Model: \"functional_1\"\n",
            "_________________________________________________________________\n",
            "Layer (type)                 Output Shape              Param #   \n",
            "=================================================================\n",
            "input_1 (InputLayer)         [(None, 224, 224, 3)]     0         \n",
            "_________________________________________________________________\n",
            "block1_conv1 (Conv2D)        (None, 224, 224, 64)      1792      \n",
            "_________________________________________________________________\n",
            "block1_conv2 (Conv2D)        (None, 224, 224, 64)      36928     \n",
            "_________________________________________________________________\n",
            "block1_pool (MaxPooling2D)   (None, 112, 112, 64)      0         \n",
            "_________________________________________________________________\n",
            "block2_conv1 (Conv2D)        (None, 112, 112, 128)     73856     \n",
            "_________________________________________________________________\n",
            "block2_conv2 (Conv2D)        (None, 112, 112, 128)     147584    \n",
            "_________________________________________________________________\n",
            "block2_pool (MaxPooling2D)   (None, 56, 56, 128)       0         \n",
            "_________________________________________________________________\n",
            "block3_conv1 (Conv2D)        (None, 56, 56, 256)       295168    \n",
            "_________________________________________________________________\n",
            "block3_conv2 (Conv2D)        (None, 56, 56, 256)       590080    \n",
            "_________________________________________________________________\n",
            "block3_conv3 (Conv2D)        (None, 56, 56, 256)       590080    \n",
            "_________________________________________________________________\n",
            "block3_pool (MaxPooling2D)   (None, 28, 28, 256)       0         \n",
            "_________________________________________________________________\n",
            "block4_conv1 (Conv2D)        (None, 28, 28, 512)       1180160   \n",
            "_________________________________________________________________\n",
            "block4_conv2 (Conv2D)        (None, 28, 28, 512)       2359808   \n",
            "_________________________________________________________________\n",
            "block4_conv3 (Conv2D)        (None, 28, 28, 512)       2359808   \n",
            "_________________________________________________________________\n",
            "block4_pool (MaxPooling2D)   (None, 14, 14, 512)       0         \n",
            "_________________________________________________________________\n",
            "block5_conv1 (Conv2D)        (None, 14, 14, 512)       2359808   \n",
            "_________________________________________________________________\n",
            "block5_conv2 (Conv2D)        (None, 14, 14, 512)       2359808   \n",
            "_________________________________________________________________\n",
            "block5_conv3 (Conv2D)        (None, 14, 14, 512)       2359808   \n",
            "_________________________________________________________________\n",
            "block5_pool (MaxPooling2D)   (None, 7, 7, 512)         0         \n",
            "_________________________________________________________________\n",
            "average_pooling2d (AveragePo (None, 1, 1, 512)         0         \n",
            "_________________________________________________________________\n",
            "flatten (Flatten)            (None, 512)               0         \n",
            "_________________________________________________________________\n",
            "dense (Dense)                (None, 64)                32832     \n",
            "_________________________________________________________________\n",
            "dropout (Dropout)            (None, 64)                0         \n",
            "_________________________________________________________________\n",
            "dense_1 (Dense)              (None, 2)                 130       \n",
            "=================================================================\n",
            "Total params: 14,747,650\n",
            "Trainable params: 32,962\n",
            "Non-trainable params: 14,714,688\n",
            "_________________________________________________________________\n"
          ],
          "name": "stdout"
        }
      ]
    },
    {
      "cell_type": "code",
      "metadata": {
        "id": "GUuhRiK1bTsD"
      },
      "source": [
        "from tensorflow.keras.optimizers import RMSprop\n",
        "\n",
        "model.compile(loss='categorical_crossentropy',\n",
        "              optimizer=RMSprop(lr=0.001),\n",
        "              metrics=['acc'])\n",
        "\n",
        "total_sample=train_generator.n"
      ],
      "execution_count": 15,
      "outputs": []
    },
    {
      "cell_type": "code",
      "metadata": {
        "colab": {
          "base_uri": "https://localhost:8080/"
        },
        "id": "Ky8Etf5ybgV0",
        "outputId": "cea1f549-a8f7-491c-fb67-a1b65ac5303b"
      },
      "source": [
        "history = model.fit(train_generator,\n",
        "                    steps_per_epoch = 3,\n",
        "                    epochs = 20,\n",
        "                    verbose=1,\n",
        "                    validation_data = validation_dataset\n",
        ")"
      ],
      "execution_count": 20,
      "outputs": [
        {
          "output_type": "stream",
          "text": [
            "Epoch 1/20\n",
            "3/3 [==============================] - 7s 2s/step - loss: 0.9049 - acc: 0.7033 - val_loss: 0.7475 - val_acc: 0.7388\n",
            "Epoch 2/20\n",
            "3/3 [==============================] - 7s 2s/step - loss: 0.6405 - acc: 0.7500 - val_loss: 0.6256 - val_acc: 0.7652\n",
            "Epoch 3/20\n",
            "3/3 [==============================] - 7s 2s/step - loss: 0.7021 - acc: 0.7500 - val_loss: 0.5183 - val_acc: 0.8232\n",
            "Epoch 4/20\n",
            "3/3 [==============================] - 7s 2s/step - loss: 0.7513 - acc: 0.6875 - val_loss: 0.5954 - val_acc: 0.7916\n",
            "Epoch 5/20\n",
            "3/3 [==============================] - 7s 2s/step - loss: 0.5096 - acc: 0.8333 - val_loss: 0.5683 - val_acc: 0.7678\n",
            "Epoch 6/20\n",
            "3/3 [==============================] - 7s 2s/step - loss: 0.5961 - acc: 0.7473 - val_loss: 0.7478 - val_acc: 0.7018\n",
            "Epoch 7/20\n",
            "3/3 [==============================] - 7s 2s/step - loss: 0.6607 - acc: 0.7500 - val_loss: 0.5176 - val_acc: 0.7968\n",
            "Epoch 8/20\n",
            "3/3 [==============================] - 7s 2s/step - loss: 0.3681 - acc: 0.8958 - val_loss: 0.4090 - val_acc: 0.8760\n",
            "Epoch 9/20\n",
            "3/3 [==============================] - 7s 2s/step - loss: 0.4199 - acc: 0.9062 - val_loss: 0.4025 - val_acc: 0.8602\n",
            "Epoch 10/20\n",
            "3/3 [==============================] - 7s 2s/step - loss: 0.6136 - acc: 0.7708 - val_loss: 0.3890 - val_acc: 0.8839\n",
            "Epoch 11/20\n",
            "3/3 [==============================] - 7s 2s/step - loss: 0.2376 - acc: 0.9375 - val_loss: 0.3916 - val_acc: 0.8865\n",
            "Epoch 12/20\n",
            "3/3 [==============================] - 7s 2s/step - loss: 0.4154 - acc: 0.9167 - val_loss: 0.4197 - val_acc: 0.8496\n",
            "Epoch 13/20\n",
            "3/3 [==============================] - 7s 2s/step - loss: 0.4875 - acc: 0.8021 - val_loss: 0.4805 - val_acc: 0.8496\n",
            "Epoch 14/20\n",
            "3/3 [==============================] - 7s 2s/step - loss: 0.3952 - acc: 0.8646 - val_loss: 0.3923 - val_acc: 0.8628\n",
            "Epoch 15/20\n",
            "3/3 [==============================] - 7s 2s/step - loss: 0.2829 - acc: 0.8958 - val_loss: 0.3158 - val_acc: 0.9077\n",
            "Epoch 16/20\n",
            "3/3 [==============================] - 7s 2s/step - loss: 0.3606 - acc: 0.8646 - val_loss: 0.3951 - val_acc: 0.8918\n",
            "Epoch 17/20\n",
            "3/3 [==============================] - 7s 2s/step - loss: 0.3164 - acc: 0.9271 - val_loss: 0.3038 - val_acc: 0.9024\n",
            "Epoch 18/20\n",
            "3/3 [==============================] - 7s 2s/step - loss: 0.3035 - acc: 0.8958 - val_loss: 0.2984 - val_acc: 0.9156\n",
            "Epoch 19/20\n",
            "3/3 [==============================] - 7s 2s/step - loss: 0.3682 - acc: 0.9062 - val_loss: 0.2705 - val_acc: 0.9182\n",
            "Epoch 20/20\n",
            "3/3 [==============================] - 7s 2s/step - loss: 0.2235 - acc: 0.9231 - val_loss: 0.2412 - val_acc: 0.9314\n"
          ],
          "name": "stdout"
        }
      ]
    },
    {
      "cell_type": "code",
      "metadata": {
        "colab": {
          "base_uri": "https://localhost:8080/",
          "height": 441
        },
        "id": "842Nug0TbkzU",
        "outputId": "e9c656dd-fc38-4fd5-d8be-9036af8bb743"
      },
      "source": [
        "loss = history.history['loss']\n",
        "val_loss = history.history['val_loss']\n",
        "epochs = range(1, len(loss) + 1)\n",
        "plt.plot(epochs, loss, 'y', label='Training loss')\n",
        "plt.plot(epochs, val_loss, 'r', label='Validation loss')\n",
        "plt.title('Training and validation loss')\n",
        "plt.xlabel('Epochs')\n",
        "plt.ylabel('Loss')\n",
        "plt.legend()\n",
        "plt.show()"
      ],
      "execution_count": 21,
      "outputs": [
        {
          "output_type": "display_data",
          "data": {
            "image/png": "[encoded data removed]",
            "text/plain": [
              "<Figure size 1440x720 with 1 Axes>"
            ]
          },
          "metadata": {
            "tags": [],
            "needs_background": "light"
          }
        }
      ]
    },
    {
      "cell_type": "code",
      "metadata": {
        "colab": {
          "base_uri": "https://localhost:8080/"
        },
        "id": "zKQaF6KGmrxK",
        "outputId": "c058d8b4-eaa8-46eb-eb45-6a047c0fdf75"
      },
      "source": [
        "import numpy as np\n",
        "from keras.preprocessing import image\n",
        "test_image = image.load_img('/content/drive/MyDrive/ARROWS/LEFT/download (11).png', target_size = (200,200))\n",
        "#test_image = image.img_to_array(test_image)\n",
        "test_image = np.expand_dims(test_image, axis=0)\n",
        "result = model.predict(test_image)\n",
        "\n",
        "if result[0][0] == 1:\n",
        "    print(\"DOWN\")\n",
        "elif result[0][1] == 1:\n",
        "    print(\"LEFT\")\n",
        "elif result[0][2] == 1:\n",
        "    print(\"RIGHT\")\n",
        "elif result[0][3] == 1:\n",
        "    print(\"UP\")"
      ],
      "execution_count": 23,
      "outputs": [
        {
          "output_type": "stream",
          "text": [
            "LEFT\n"
          ],
          "name": "stdout"
        }
      ]
    },
    {
      "cell_type": "code",
      "metadata": {
        "id": "YObgIdyMnNlF"
      },
      "source": [
        ""
      ],
      "execution_count": 25,
      "outputs": []
    },
    {
      "cell_type": "code",
      "metadata": {
        "id": "vB-HSRHror2B"
      },
      "source": [
        ""
      ],
      "execution_count": null,
      "outputs": []
    }
  ]
}